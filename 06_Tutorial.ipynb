{
 "cells": [
  {
   "cell_type": "markdown",
   "id": "ea8b1e76-8e78-4f29-b247-07b46f042ff5",
   "metadata": {},
   "source": [
    "UM MSBA - BGEN632\n",
    "\n",
    "# Week 6: Collections\n",
    "\n",
    "As a budding data scientist, you have learned many of the foundational components of programming, including syntax, operators, conditional statements, and iterative statements. In this module you will learn about one of the last fundamental components of Python: collections.\n",
    "\n",
    "Collections are a data type that many programming languages implement. The purpose of a collection is to house multiple values in a single variable. In Python, the term *sequence* is preferred when referring to these types of objects, rather than the term collection. However, to maintain consistency with other programming languages, we will refer to them as collections.\n",
    "\n",
    "Python, like many other programming languages, provides several different types of collections. Some of those include:\n",
    "* Arrays\n",
    "* Lists\n",
    "* Dictionaries (i.e., key-value pairs)\n",
    "\n",
    "## Arrays\n",
    "\n",
    "To begin our discussion of collections, we will focus on arrays. While we will not use arrays in this course, having an understanding of arrays is vital to understanding the other types of collections we will use. Arrays are a special type of object in programming. They are containers, or collections, for storing assorted data. The data must be the same type. Arrays behave like a storage bin.\n",
    "\n",
    "<div><center><img src = \"assets/m&m_sorted.jpg\" width = \"500\"></center></div>\n",
    "\n",
    "In the picture above, several jars contain different colored M&Ms. While the jars contain different colors of the candy, they are the same type of candy. Arrays can store multiple variables (which all have different values), so long as they are the same type.\n",
    "\n",
    "While arrays may appear similar to variables, they are distinct. Often, arrays tend to be difficult for programming novices to grasp. Some of the confusion stems from conflating the syntax and function of arrays with those of variables.\n",
    "\n",
    "Recall, declaring a variable follows this simple pattern:\n",
    "\n",
    "> *`name`* = `value`\n",
    "\n",
    "You may end up with many different variables:\n",
    "\n",
    "> *`name_one`* = `value one`\n",
    "\n",
    "> *`name_two`* = `value two`\n",
    "\n",
    "> *`name_three`* = `value three`\n",
    "\n",
    "> *`name_four`* = `value four`\n",
    "\n",
    "This may look something like this:\n",
    "\n",
    "```Python\n",
    "int_a = 3\n",
    "int_b = 6\n",
    "int_c = 33\n",
    "int_d = 96\n",
    "int_e = 123\n",
    "```\n",
    "\n",
    "Tracking these variables may become tedious or cumbersome. A simpler approach is to use an array to store all of these variables into a single variable.\n",
    "\n",
    "When creating an array, a similar pattern for creating a variable is used:\n",
    "\n",
    "> *`name`* = array('*`type`*', [`value 1`, `value 2`,...,`value n`])\n",
    "\n",
    "You can see the similarities between creating a variable and an array:\n",
    "* Both are given a name.\n",
    "* Each has a value assigned (arrays have one or more values assigned).\n",
    "\n",
    "An array requires you to specify the data type *`type`*, which is not very Pythonic. While the syntax appears the same, keep in mind they behave differently (more on that later).\n",
    "\n",
    "Again, an array is a container (or *collection*) of variables. Returning to the image above, think of the entire jar as an array. Each of the individual jars is an array name. This indicates the use of an array is different from that of a variable. Just like you use the jar of M&Ms to easily transport, sort, and organize pieces, an array provides the means to transport, sort, and organize variables in code. Programs that are thousands of lines long and contain multiple files have lots of variables. Arrays provide an easy solution for organizing and passing groups of variables around.\n",
    "\n",
    "Arrays and lists are *indexed* (more on that below) while dictionaries (i.e., key-value pairs) are not. In Python, arrays possess the following characteristics:\n",
    "* Arrays are zero indexed: an array with *n* elements is indexed from 0 to *n*-1.\n",
    "* Arrays are declared just like variables. Array elements can be of any type, including an `array` type.\n",
    "  * The number of dimensions are set when an array variable is declared. \n",
    "  * The length of each dimension is established when the array instance is created. \n",
    "\n",
    "### Array Attributes\n",
    "\n",
    "#### Indexing\n",
    "\n",
    "The first property of an array was mentioned above: \"Arrays are zero indexed: an array with *n* elements is indexed from 0 to *n*-1.\" This is foundational to arrays, so we will begin our discussion here.\n",
    "\n",
    "Have you lived with someone or known someone who is obsessive over organization? That person may own a label maker that allows them to print out labels. They place those sticker labels on plastic bins, drawers, shelves, etc.\n",
    "\n",
    "<div><center><img src = \"assets/m&m_labeled.png\"></center></div>\n",
    "\n",
    "*Labeling* is important for organization. In the image above, the two jars are labeled according to their color. If we want a piece that has some varying yellow tint, we simply pull the bin labeled \"yellow.\" \n",
    "\n",
    "Arrays have a similar system to \"label\" the \"bins\" contained inside of them. This system uses a simple numerical index starting at zero and ending at *n*-1, where *n* is the number of variables held by the array. So, if your array has 15 \"bins\" or variables, then the last bin will be labeled 14, or *n*-1 (i.e., 15 - 1 = 14).\n",
    "\n",
    "The bins in an array are referred to as *elements*. Thus, each element in an array has an assigned \"label\" or index value. The first element is assigned 0, the second element is assigned 1, with each subsequent element assigned the next index value. *This is important to remember!* \n",
    "\n",
    "> The index, or label, always starts at 0 in Python. \n",
    "\n",
    "Why does indexing begin at 0 instead of 1?\n",
    "\n",
    "First, the real reason is related to the programming language C and the expense of memory at the time of its development. Without going down a rabbit hole, it is \"cheaper\" to index at 0 than 1 (feel free to search online if you want to go deeper). Other programming languages, like C#, followed the pattern merely out of convention. Many early programming languages allowed the programmer to choose the indexing, so 1 was often a choice. \n",
    "\n",
    "Second, conceptually, Python is actually two separate things that are packaged together: Python the programming language (i.e., syntax, code) and Python the implementation (i.e., what processes the syntax, the code). The original and default implementation is the programming language C. Sometimes, online, you may see people refer to Python as *CPython*. This is to differentiate it from *JPython*, or Python that is implemented with Java.\n",
    "\n",
    "> *CPython* is implemented using the C language. *CPython* and *JPython* use the same programming language (i.e., syntax) but then implement them in their own respective ways. Thus, because C language was the original implementation back in the early 90s, Python picked up a lot of its habits and behavior. \n",
    "\n",
    "You can think of Python (i.e., CPython) as the reference language. This is the main development platform. When you download Python from [https://www.python.org](https://www.python.org), you are actually downloading CPython. Other flavors exist besides CPython and JPython: PyPy, IronPython, etc. You can read more about those alternative implementations at [https://www.python.org/download/alternatives/](https://www.python.org/download/alternatives/).\n",
    "\n",
    "Third, `counting != indexing`. Remember, indexing is a means of labeling an element within an array. When we count the number of elements in an array, we are enumerating how many elements exist. *That is not the purpose of indexing.* Again:\n",
    "\n",
    "> Indexing is a method of labeling the elements in an array, not for counting.\n",
    "\n",
    "Think of indexing like the mile markers on a highway. When you cross into a new region or state, sometimes you will see a mile marker on the border labeled with 0. The image below shows the 0 mile marker for [U.S. Highway 1 (US 1)](https://en.wikipedia.org/wiki/U.S._Route_1_in_Florida) which begins at the southern end of Florida in Key West.\n",
    "\n",
    "<div><center><img src = \"assets/Florida-Highway-1-Mile-0.jpg\"></center></div>\n",
    "\n",
    "This represents the origin. When starting at the origin, you are at 0, not 1. This is similar to a 2-dimensional graph with a horizontal axis *x*-axis and vertical axis *y*-axis. Both *x* and *y* begin at 0. Returning to the example, as you move away from mile marker 0, you are headed toward mile marker 1. You have not yet traversed any distance, so mile marker 0 is your origin. Once you have traveled 1 mile, then you reach mile marker 1. Yet, as you travel from 0 to 1, this is often referred to as the first mile.\n",
    "\n",
    "With an array, the first index value is 0 because it is the origin, the beginning of the array. As you move to the next element, you traverse 1 unit of the array, reaching index value 1. The index is referred to as the *ordinal* position.\n",
    "\n",
    "Another way to think of this is like time on a clock. At the beginning of a movie, say 33 seconds into the movie, if I asked you the question, \"How far into the movie are we?\" what would you answer? Would you round up to 1 minute? If you look at a digital clock on a computer, it would show `00h:00m:33s`. In sports, the time between 0 seconds and 59 seconds is referred to as the first minute of play. The time between 60 seconds and 119 seconds, is referred to as the second minute of play. \n",
    "\n",
    "The minute marker between 0 and 59 seconds is not quite 1 minute. Yet, it is still referred to as the first minute of play. This is because one refers to indexing and the other refers to counting. Arrays in Python behave the same way. *Indexing starts at 0 while counting starts at 1.*\n",
    "\n",
    "#### Declaration and Syntax\n",
    "\n",
    "The second property of an array is as follows:\n",
    "* Arrays are declared just like variables. Array elements can be of any type, including an `array` type.\n",
    "  * The number of dimensions are set when an array variable is declared.\n",
    "  * The length of each dimension is established when the array instance is created. \n",
    "\n",
    "As mentioned previously, initializing (i.e., declaring) an array follows a similar pattern to that of declaring a variable:\n",
    "\n",
    "> *`name`* = array('*`type`*', [`value1`, `value2`,...,`valueN`])\n",
    "\n",
    "For example, if we want to create an array of numbers, I would do it like so:"
   ]
  },
  {
   "cell_type": "code",
   "execution_count": 1,
   "id": "722f8635-1ca1-4c85-bae1-ccf32b005b07",
   "metadata": {},
   "outputs": [],
   "source": [
    "import array as arr\n",
    "\n",
    "num_array = arr.array('i', [3, 6, 99, 300])"
   ]
  },
  {
   "cell_type": "markdown",
   "id": "ecdbdc09-89b4-4fcd-9042-f3f55eb5960c",
   "metadata": {},
   "source": [
    "We import the library `array` and use its method `array()` to create the array object. \n",
    "\n",
    "> It is best practice to import all libraries used in a notebook at the very start of the notebook.\n",
    "\n",
    "We then specify the data type using the code `i` which indicates a signed integer (do not worry about signed vs unsigned). If you want a table with all the possible data types, please [see this webpage](https://docs.python.org/3/library/array.html).\n",
    "\n",
    "To access an element in an array, we need to specify the name of the array and designate the index value. For example, if we want to obtain the value of `6` from the array above, we do it like so:"
   ]
  },
  {
   "cell_type": "code",
   "execution_count": 2,
   "id": "807fa808-8a3b-4a19-8372-6f9b3fa499fd",
   "metadata": {},
   "outputs": [
    {
     "data": {
      "text/plain": [
       "6"
      ]
     },
     "execution_count": 2,
     "metadata": {},
     "output_type": "execute_result"
    }
   ],
   "source": [
    "num_array[1]"
   ]
  },
  {
   "cell_type": "markdown",
   "id": "a7ddc097-fcd0-4759-be5d-2044c939323c",
   "metadata": {},
   "source": [
    "We use the number `1` as the index value because it is 1 index over from the origin.\n",
    "\n",
    "We can also use this notation to assign a new value. Let's say we want to change the value `6` to `36`. We can perform that like so:"
   ]
  },
  {
   "cell_type": "code",
   "execution_count": 3,
   "id": "c2203b3a-3048-4efe-93a9-d5a1009ff700",
   "metadata": {},
   "outputs": [],
   "source": [
    "num_array[1] = 36"
   ]
  },
  {
   "cell_type": "markdown",
   "id": "0bcb0079-aa3b-45b8-a451-5e2fafe9ae40",
   "metadata": {},
   "source": [
    "Let's confirm the change to our array by inspecting it:"
   ]
  },
  {
   "cell_type": "code",
   "execution_count": 4,
   "id": "f58d788a-e169-43aa-b332-e28cf7f16a76",
   "metadata": {},
   "outputs": [
    {
     "data": {
      "text/plain": [
       "array('i', [3, 36, 99, 300])"
      ]
     },
     "execution_count": 4,
     "metadata": {},
     "output_type": "execute_result"
    }
   ],
   "source": [
    "num_array"
   ]
  },
  {
   "cell_type": "markdown",
   "id": "ff3ba9df-f008-41ee-9665-44edbffc6b9e",
   "metadata": {},
   "source": [
    "#### Other Properties of Arrays\n",
    "\n",
    "Arrays inherently have many properties we can obtain information about. Additionally, we can manipulate arrays to some extent. One of the most important properties is the length, or count, of your array. To obtain the number of elements in an array, simply use `len()` like so:\n"
   ]
  },
  {
   "cell_type": "code",
   "execution_count": 5,
   "id": "29ea6aaf-93b3-45f1-b140-864a44164a37",
   "metadata": {},
   "outputs": [
    {
     "data": {
      "text/plain": [
       "4"
      ]
     },
     "execution_count": 5,
     "metadata": {},
     "output_type": "execute_result"
    }
   ],
   "source": [
    "len(num_array)"
   ]
  },
  {
   "cell_type": "markdown",
   "id": "2135ca95-6245-4941-9aa6-d945b44cae06",
   "metadata": {},
   "source": [
    "This returns the number or count of elements in an array. Remember, the indexing and count are not the same. Thus, this returns the value of `4`, not `3`. We will return to this shortly, but `len()` will be important when we discuss iterating over collections with loops.\n",
    "\n",
    "## Lists\n",
    "\n",
    "Thus far you have learned about the collection arrays. As mentioned at the start of this module, Python provides various types of collections:\n",
    "* Arrays\n",
    "* Lists\n",
    "* Dictionaries (i.e., key-value pairs)\n",
    "\n",
    "In this part of the tutorial, we will cover lists. Specifically:\n",
    "\n",
    "1. The purpose of lists\n",
    "1. Initializing lists\n",
    "1. Common list methods and properties\n",
    "1. Indexing\n",
    "1. Iterating over lists\n",
    "\n",
    "### Purpose: List vs. Array\n",
    "\n",
    "For all intents and purposes, `lists` behave and operate like `arrays`. The most important distinction is a `list` can grow and shrink dynamically. Arrays are strongly typed. All elements in an array must be the same data type. At the creation of an array, you must declare its data type. If you create an array with 12 elements, all 12 must be the same data type.\n",
    "\n",
    "As an alternative, we can rely on `lists`. With a list object, we do not need to declare a data type. Lists are more Pythonic. Lists are an original data type of Python while arrays are not.\n",
    "\n",
    "### Initializing Lists\n",
    "\n",
    "The syntax for initializing a list is comparable to an array. The basic syntax is as follows:\n",
    "\n",
    "> *`name`* = [`value 1`, `value 2`,...,`value N`]\n",
    "\n",
    "Compare this to initializing an array:\n",
    "\n",
    "> *`name`* = array('*`type`*', [`value 1`, `value 2`,...,`value N`])\n",
    "\n",
    "Let's use mountain ranges as an example. We will create a list containing a couple of the mountain ranges that surround Missoula:"
   ]
  },
  {
   "cell_type": "code",
   "execution_count": 6,
   "id": "f360b15f-057e-4bf9-8b0c-393e7f0fb297",
   "metadata": {},
   "outputs": [
    {
     "data": {
      "text/plain": [
       "['Bitterroot', 'Sapphire']"
      ]
     },
     "execution_count": 6,
     "metadata": {},
     "output_type": "execute_result"
    }
   ],
   "source": [
    "missoula_mountains = [\"Bitterroot\", \"Sapphire\"]\n",
    "\n",
    "missoula_mountains"
   ]
  },
  {
   "cell_type": "markdown",
   "id": "18f53359-70b3-45b7-9bcc-d22d69583c89",
   "metadata": {},
   "source": [
    "### Methods and Properties\n",
    "\n",
    "Next, let's discuss a few methods and properties of lists. This is where they really shine and you will see how they truly differ from arrays. Specifically, we will discuss the following:\n",
    "\n",
    "* `append()`\n",
    "* `insert()`\n",
    "* `remove()`\n",
    "* `pop()`\n",
    "\n",
    "#### Append\n",
    "\n",
    "The method `append()` appends a new value to the end of a list. For example, if we want to add `Garnet` to the end of `missoula_mountains` we would use `missoula_mountains.append(\"Garnet\")`. The code below illustrates the difference between the original list and the updated one:"
   ]
  },
  {
   "cell_type": "code",
   "execution_count": 7,
   "id": "c94dd0d7-cb23-4748-a46d-00ad8febdd71",
   "metadata": {},
   "outputs": [
    {
     "data": {
      "text/plain": [
       "['Bitterroot', 'Sapphire']"
      ]
     },
     "execution_count": 7,
     "metadata": {},
     "output_type": "execute_result"
    }
   ],
   "source": [
    "# The original list\n",
    "missoula_mountains = [\"Bitterroot\", \"Sapphire\"]\n",
    "\n",
    "missoula_mountains"
   ]
  },
  {
   "cell_type": "code",
   "execution_count": 8,
   "id": "9ea7a6cc-0426-4b92-85f4-42708a6e00ef",
   "metadata": {},
   "outputs": [
    {
     "data": {
      "text/plain": [
       "['Bitterroot', 'Sapphire', 'Garnet']"
      ]
     },
     "execution_count": 8,
     "metadata": {},
     "output_type": "execute_result"
    }
   ],
   "source": [
    "# The updated list: Garnet added\n",
    "missoula_mountains.append(\"Garnet\")\n",
    "\n",
    "missoula_mountains"
   ]
  },
  {
   "cell_type": "markdown",
   "id": "3f14a90e-7285-4944-bf89-b026e599b31e",
   "metadata": {},
   "source": [
    "#### Insert\n",
    "\n",
    "If you would like to add a new value at a specific location in the list, then you would need to use `insert()` instead of `append()`. We will insert a new value at index location `1`:"
   ]
  },
  {
   "cell_type": "code",
   "execution_count": 9,
   "id": "f44a6f2d-e3d6-4b53-b14a-68829cf85467",
   "metadata": {},
   "outputs": [
    {
     "data": {
      "text/plain": [
       "['Bitterroot', 'Rattlesnake', 'Sapphire', 'Garnet']"
      ]
     },
     "execution_count": 9,
     "metadata": {},
     "output_type": "execute_result"
    }
   ],
   "source": [
    "# The updated list: Rattlesnake added at index location 1\n",
    "missoula_mountains.insert(1, \"Rattlesnake\")\n",
    "\n",
    "missoula_mountains"
   ]
  },
  {
   "cell_type": "markdown",
   "id": "5513738e-1d06-4ef2-90c2-547a12a4dc19",
   "metadata": {},
   "source": [
    "The code we used `missoula_mountains.insert(1, \"Rattlesnake\")` requires us to specify the index value for the insertion point. In this example, we wanted it listed as the second item; therefore, we used index value `1`.\n",
    "\n",
    "#### Remove\n",
    "\n",
    "We can also remove elements from a list. This requires us to use the method `remove()`. Let's say we made a mistake and would like to remove `Sapphire` from `missoula_mountains`. We simply use the following approach:"
   ]
  },
  {
   "cell_type": "code",
   "execution_count": 10,
   "id": "e08b03f7-4398-4908-95b3-650bdf6adc45",
   "metadata": {},
   "outputs": [
    {
     "data": {
      "text/plain": [
       "['Bitterroot', 'Rattlesnake', 'Garnet']"
      ]
     },
     "execution_count": 10,
     "metadata": {},
     "output_type": "execute_result"
    }
   ],
   "source": [
    "missoula_mountains.remove(\"Sapphire\")\n",
    "\n",
    "missoula_mountains"
   ]
  },
  {
   "cell_type": "markdown",
   "id": "aa5f68a6-51c7-4c1e-a1da-c5a43a6dabee",
   "metadata": {},
   "source": [
    "What if we have duplicate items? Which of the two will Python remove? Let's experiment and find out."
   ]
  },
  {
   "cell_type": "code",
   "execution_count": 11,
   "id": "5ab3d678-7aca-43c0-a912-408c26dc4205",
   "metadata": {},
   "outputs": [
    {
     "data": {
      "text/plain": [
       "['Bitterroot', 'Sapphire', 'Rattlesnake', 'Sapphire', 'Garnet']"
      ]
     },
     "execution_count": 11,
     "metadata": {},
     "output_type": "execute_result"
    }
   ],
   "source": [
    "missoula_mountains.insert(1, \"Sapphire\")\n",
    "missoula_mountains.insert(3, \"Sapphire\")\n",
    "\n",
    "missoula_mountains"
   ]
  },
  {
   "cell_type": "code",
   "execution_count": 12,
   "id": "4064f1ed-842a-4a71-b517-55c2ca2e9e67",
   "metadata": {},
   "outputs": [
    {
     "data": {
      "text/plain": [
       "['Bitterroot', 'Rattlesnake', 'Sapphire', 'Garnet']"
      ]
     },
     "execution_count": 12,
     "metadata": {},
     "output_type": "execute_result"
    }
   ],
   "source": [
    "missoula_mountains.remove('Sapphire')\n",
    "missoula_mountains"
   ]
  },
  {
   "cell_type": "markdown",
   "id": "5bc4b60f-8347-4c87-b64c-a1af64e10d85",
   "metadata": {},
   "source": [
    "Apparently, the first entry that matches is removed from the list. What if we want to remove the second entry? Or, what if we do not know the value of the element, but we know the index value of the element? We can use `pop()` instead. \n",
    "\n",
    "#### Pop\n",
    "\n",
    "The method `remove()` deletes the first entry for a given value. If we would like to remove an element at a given index, we can use `pop()`. For example, let's say we would now like to remove `Sapphire` at index `2`. We would use the code like so:"
   ]
  },
  {
   "cell_type": "code",
   "execution_count": 13,
   "id": "0c648823-888d-487c-a873-7208dbeaeac6",
   "metadata": {},
   "outputs": [
    {
     "data": {
      "text/plain": [
       "'Sapphire'"
      ]
     },
     "execution_count": 13,
     "metadata": {},
     "output_type": "execute_result"
    }
   ],
   "source": [
    "missoula_mountains.pop(2)"
   ]
  },
  {
   "cell_type": "markdown",
   "id": "2f51e50b-96ce-4ad5-b18c-1b24bfda69d9",
   "metadata": {},
   "source": [
    "The output of `pop()` provides confirmation of the element that is deleted by outputting the value `Sapphire`. \n",
    "\n",
    "Recall that the default behavior of Jupyter notebooks is to show explicit output always and implicit output *if* it's at the end of the code cell. The examples below highlight explicit vs. implicit output\n",
    "\n",
    "To delete an element at a specific index and display the updated list:\n",
    "\n",
    "```Python\n",
    "missoula_mountains.pop(2)  # implicit output - will NOT be outputted\n",
    "missoula_mountains  # implicit output at the end of the code cell - will be outputted\n",
    "```\n",
    "\n",
    "To delete an element at a specific index and display the deleted element AND updated list:\n",
    "\n",
    "```Python\n",
    "print(missoula_mountains.pop(2))  # print() makes this explicit output, can also use display() instead\n",
    "missoula_mountains # implicit output at the end of the code cell - will be outputted\n",
    "```\n",
    "\n",
    "Alternatively, you can change the default behavior of your notebook to always display the full output by [changing node interactivity settings which we covered in Week 3 on Canvas](https://canvas.umt.edu/courses/18274/pages/jupyter-notebook-behavior?module_item_id=1261737). \n",
    "\n",
    "### Indexing\n",
    "\n",
    "Indexing for a list operates just like it does for an array. It is a 0-index, so all indexing begins at 0, *not 1*. The index values increment one number at a time. Since lists are dynamic, when you remove, add, insert, or otherwise change the list, the index of each element is updated accordingly. The list will never have a gap or missing index value.\n",
    "\n",
    "For example, let's say we insert a new element into our list at index `1`. If we output the value of the element at index `1` before and after the insertion, we receive different values:\n"
   ]
  },
  {
   "cell_type": "code",
   "execution_count": 14,
   "id": "5f358886-8bdb-4ad6-bbe2-2d8d7a26c0f1",
   "metadata": {},
   "outputs": [
    {
     "data": {
      "text/plain": [
       "'flautas'"
      ]
     },
     "execution_count": 14,
     "metadata": {},
     "output_type": "execute_result"
    }
   ],
   "source": [
    "mexican_food = [\"enchiladas\", \"flautas\", \"pozole\"]\n",
    "\n",
    "mexican_food[1]"
   ]
  },
  {
   "cell_type": "code",
   "execution_count": 15,
   "id": "b0c4741d-4e9c-4c20-80a3-17bbdfbf4e73",
   "metadata": {},
   "outputs": [
    {
     "data": {
      "text/plain": [
       "'elote'"
      ]
     },
     "execution_count": 15,
     "metadata": {},
     "output_type": "execute_result"
    }
   ],
   "source": [
    "mexican_food.insert(1, \"elote\")\n",
    "\n",
    "mexican_food[1]"
   ]
  },
  {
   "cell_type": "markdown",
   "id": "2da99b72-9188-4d07-99c5-8fa87c13b8db",
   "metadata": {},
   "source": [
    "This is also true if we use `pop()`. The index values will arrange themselves such that no gaps are present. This is a nice feature because other programming languages will not update the index for you.\n",
    "\n",
    "Next, we will cover looping over lists using `for()`.\n",
    "\n",
    "## Iterating over collections\n",
    "\n",
    "In this section, we will learn about another iterator statement, the `for` loop. This differs from the `while` loop. The `for` loop is intended to work with collections such as `arrays`, `lists`, `dictionaries`, `sets`, and `tuples`. While other programming languages are indifferent towards how `while` and `for` are implemented, Python is more strict. We will discuss the differences in depth later in this section.\n",
    "\n",
    "### `for` statement\n",
    "\n",
    "Let's start off by reviewing some important concepts of `while` loops. When implementing a `while` loop, you will implement the following three components:\n",
    "\n",
    "* `initializer`: executed only one time before beginning the loop; e.g., `i = 0`.\n",
    "* `condition`: determines if the next iteration of the loop should be executed; must always be a boolean expression; e.g., `i < 2001`.\n",
    "* `iterator`: determines what happens after the successful completion of each loop; e.g., `i+=1` or `i = i + 1`. \n",
    "\n",
    "As mentioned, a `for` statement iterates over a collection. Unlike the `while` loop, *it does not evaluate a boolean expression*. Rather, you iterate sequentially over each element in the list. Thus, in Python, the `for` loop does not have an initializer, a conditional expression, or an iterator.\n",
    "\n",
    "In a previous example, we created a list of Mexican food. We can use `for` to iterate through each element like so:"
   ]
  },
  {
   "cell_type": "code",
   "execution_count": 18,
   "id": "7e0ce013-be6c-45a2-b1e1-dc24997b922a",
   "metadata": {},
   "outputs": [
    {
     "name": "stdout",
     "output_type": "stream",
     "text": [
      "enchiladas\n",
      "elote\n",
      "flautas\n",
      "pozole\n",
      "tortillas\n"
     ]
    }
   ],
   "source": [
    "mexican_food = [\"enchiladas\", \"elote\", \"flautas\", \"pozole\", \"tortillas\"]\n",
    "\n",
    "for j in mexican_food:\n",
    "    print(j)"
   ]
  },
  {
   "cell_type": "markdown",
   "id": "82648486-ac12-4b92-8b60-84dd24fc5680",
   "metadata": {},
   "source": [
    "Observe, the variable `j` takes on the value of each element in the list. That is, each time Python sequentially moves from one element to the next, the variable `j` is assigned a new value. \n",
    "\n",
    "Here is another way to think about this. We can perform the same process without using a `for` loop with the code below. The output is the same as when we implemented the `for` loop:"
   ]
  },
  {
   "cell_type": "code",
   "execution_count": 19,
   "id": "89c2ef9e-f9d6-4d70-9098-27c26401ef98",
   "metadata": {},
   "outputs": [
    {
     "name": "stdout",
     "output_type": "stream",
     "text": [
      "enchiladas\n",
      "elote\n",
      "flautas\n",
      "pozole\n",
      "tortillas\n"
     ]
    }
   ],
   "source": [
    "j = mexican_food[0]\n",
    "print(j)\n",
    "j = mexican_food[1]\n",
    "print(j)\n",
    "j = mexican_food[2]\n",
    "print(j)\n",
    "j = mexican_food[3]\n",
    "print(j)\n",
    "j = mexican_food[4]\n",
    "print(j)"
   ]
  },
  {
   "cell_type": "markdown",
   "id": "55363853-469f-456e-b7ce-11381dcfa4fa",
   "metadata": {},
   "source": [
    "Inside the loop, the variable `j` can be used just like any other variable. Again, its value will change each time the loop progresses to the next element.\n",
    "\n",
    "To further reinforce this idea, we will adjust the code slightly:"
   ]
  },
  {
   "cell_type": "code",
   "execution_count": 20,
   "id": "730678f5-15b5-4085-b710-a7b285eb8c3d",
   "metadata": {},
   "outputs": [
    {
     "name": "stdout",
     "output_type": "stream",
     "text": [
      "The variable j is assigned the value enchiladas\n",
      "The variable j is assigned the value elote\n",
      "The variable j is assigned the value flautas\n",
      "The variable j is assigned the value pozole\n",
      "The variable j is assigned the value tortillas\n"
     ]
    }
   ],
   "source": [
    "for j in mexican_food:\n",
    "    print(f\"The variable j is assigned the value {j}\")"
   ]
  },
  {
   "cell_type": "markdown",
   "id": "ddcd95ee-314d-462c-bdcc-d6e06145a7f3",
   "metadata": {},
   "source": [
    "### `while` loop with a list?\n",
    "\n",
    "Sometimes you may need to rely on a `while` loop *and* iterate over a list. This is accomplished like in other programming languages. You will rely on the initializer to represent the index value of your list.\n",
    "\n",
    "We will use the same list `mexican_food` and rely on a `while` loop to iterate over its contents."
   ]
  },
  {
   "cell_type": "code",
   "execution_count": 21,
   "id": "d89e0b66-09b4-450e-b715-b17f24573b43",
   "metadata": {},
   "outputs": [
    {
     "name": "stdout",
     "output_type": "stream",
     "text": [
      "enchiladas\n",
      "elote\n",
      "flautas\n",
      "pozole\n",
      "tortillas\n"
     ]
    }
   ],
   "source": [
    "k = 0\n",
    "\n",
    "while k < len(mexican_food):\n",
    "    print(mexican_food[k])\n",
    "    k += 1"
   ]
  },
  {
   "cell_type": "markdown",
   "id": "2a2e1258-4ba4-4729-82db-d53bf2fb2799",
   "metadata": {},
   "source": [
    "While the `for` loop is preferred for sequences such as list, you may have need of `while` as an iterator.\n",
    "\n",
    "### Jump Statements\n",
    "\n",
    "In the previous tutorial I discussed jump statements such as `break` and `continue`. These jump statements apply to `for` loops as well. \n",
    "\n",
    "Here is an example from  the previous tutorial:"
   ]
  },
  {
   "cell_type": "code",
   "execution_count": 22,
   "id": "cb3d6e6d-f09b-457b-a56f-63e58cfed993",
   "metadata": {},
   "outputs": [
    {
     "name": "stdout",
     "output_type": "stream",
     "text": [
      "i is 0, j is 20\n",
      "i is 1, j is 19\n",
      "i is 2, j is 18\n",
      "i is 3, j is 17\n",
      "i is 4, j is 16\n",
      "i is 5, j is 15\n",
      "i is 6, j is 14\n",
      "i is 7, j is 13\n",
      "i is 8, j is 12\n",
      "i is 9, j is 11\n",
      "All done!\n"
     ]
    }
   ],
   "source": [
    "i = 0\n",
    "j = 20\n",
    "\n",
    "while i < j:\n",
    "    print(f\"i is {i}, j is {j}\")\n",
    "    if i == 3 and j == 9:\n",
    "        break\n",
    "    i += 1\n",
    "    j -= 1\n",
    "    \n",
    "print(\"All done!\")"
   ]
  },
  {
   "cell_type": "markdown",
   "id": "93817e99-882f-4abd-9f5d-1be0f99f479d",
   "metadata": {},
   "source": [
    "If we want to implement `break` in a `for` loop, what might that look like? In this example, we will iterate over the list `mexican_food`. When our loop is iterating over the element with the value `flautas`, we want to stop the loop from progressing and end."
   ]
  },
  {
   "cell_type": "code",
   "execution_count": 23,
   "id": "dd4ae25a-1012-4e11-946e-b9c0b17cf81e",
   "metadata": {},
   "outputs": [
    {
     "name": "stdout",
     "output_type": "stream",
     "text": [
      "The variable j is assigned the value enchiladas.\n",
      "The variable j is assigned the value elote.\n",
      "The variable j is assigned the value flautas.\n",
      "\n",
      "That's enough food for now!\n"
     ]
    }
   ],
   "source": [
    "for j in mexican_food:\n",
    "    print(f'The variable j is assigned the value {j}.')\n",
    "    if j == \"flautas\":\n",
    "        print(\"\\nThat's enough food for now!\")\n",
    "        break"
   ]
  },
  {
   "cell_type": "markdown",
   "id": "895b24e3-1432-47db-ab56-14034e1b6628",
   "metadata": {},
   "source": [
    "## Dictionary: Key-Value Pairs\n",
    "\n",
    "You are already familiar with the collections `arrays` and `lists`. One of the important concepts related to these objects is they rely on an index to store, sort, and order the values they contain. You can think of an index like a primary key. In a database system, a table contains rows of data. Each row is differentiated from another by its primary key. This concept, using an `index`, presents a couple of problems:\n",
    "\n",
    "1. You are limited to the value of the index itself, which means the index is not a flexible key.\n",
    "2. The index starts at 0 and does not allow for other starting values.\n",
    "\n",
    "A `dictionary`, or `key-value pair` as it is sometimes referred to in programming, provides many of the same properties as `arrays` and `lists`. The key is a unique identifier while the value is some element you wish to store. Think of this like an array, except instead of using numbers as the index you define the index however you wish. The `key` is the index and the `value` is the element's value. \n",
    "\n",
    "This is where it differs as a collection: it provides a link between a `key` and a `value`. You define the `key`. If you did not want to use a numerical `key`, you could use a `string`. For example, many organizations use social security number as a primary key. It is not a true number because 1) you cannot perform mathematical operations on it and 2) it contains hyphens `-`, so it is really just a string.\n",
    "\n",
    "For example, say we have an array containing ages of students.\n",
    "\n",
    "```python\n",
    "student_age = [36, 22, 32, 64, 25, 56, 42, 33]\n",
    "```\n",
    "\n",
    "If we want to retrieve the value for the 3rd employee, I would simply use the index to obtain the value like so:\n",
    "\n",
    "```python\n",
    "student_age[2]\n",
    "```\n",
    "\n",
    "A downside to this, though, is we have to know the index value for the student. If we have an array with over 2,000 values, this would become cumbersome. How do we know which index value belongs to a student of interest? We do not! A dictionary is an excellent alternative to this issue.\n",
    "\n",
    "### Basic Syntax\n",
    "\n",
    "Creating a dictionary is fairly straight forward. While lists use square brackets, a dictionary utilizes curly brackets. In this example, we will create a dictionary housing the first name and age of students."
   ]
  },
  {
   "cell_type": "code",
   "execution_count": 24,
   "id": "d606df3f-034e-4935-a84c-3691522197ea",
   "metadata": {},
   "outputs": [
    {
     "data": {
      "text/plain": [
       "{'Theo': 36, 'Josie': 22, 'Lili': 32}"
      ]
     },
     "execution_count": 24,
     "metadata": {},
     "output_type": "execute_result"
    }
   ],
   "source": [
    "student_age = {\n",
    "    \"Theo\": 36,\n",
    "    \"Josie\": 22,\n",
    "    \"Lili\": 32\n",
    "}\n",
    "\n",
    "student_age"
   ]
  },
  {
   "cell_type": "markdown",
   "id": "c3a96c81-ad6d-4c91-847b-aaf2985aeca5",
   "metadata": {},
   "source": [
    "In this example, the student's first name is the key. The value is the age. \n",
    "\n",
    "We can also use the dictionary constructor method `dict()` to create a new dictionary like so:"
   ]
  },
  {
   "cell_type": "code",
   "execution_count": 25,
   "id": "1fca21fe-0214-444e-885e-e7c15f9c5e71",
   "metadata": {},
   "outputs": [],
   "source": [
    "student_age = dict([('Theo', 36), ('Josie', 22), ('Lili', 32)])"
   ]
  },
  {
   "cell_type": "markdown",
   "id": "8f6b12a0-a351-46fb-b18f-f9ed6276a53a",
   "metadata": {},
   "source": [
    "We can also use the constructor in this manner when the key is simple:"
   ]
  },
  {
   "cell_type": "code",
   "execution_count": 26,
   "id": "c6a66618-25d0-48a7-811b-34e46017fbac",
   "metadata": {},
   "outputs": [],
   "source": [
    "student_age = dict(Theo = 36, Josie = 22, Lili = 32)"
   ]
  },
  {
   "cell_type": "markdown",
   "id": "677e96a9-ce7f-47b0-862e-e758cd4ac8d9",
   "metadata": {},
   "source": [
    "### Adding and Updating Elements\n",
    "\n",
    "Now that we have created a dictionary of student ages, we would like to add additional employees to it. The syntax is simple:\n",
    "\n",
    "> *dictionary_name*[*key*] = *value*\n",
    "\n",
    "We specify the name of my dictionary object, give it the new `key`, and assign its `value` using `=`. Here is an example:"
   ]
  },
  {
   "cell_type": "code",
   "execution_count": 27,
   "id": "8c71e995-48ba-4c66-b35a-630597dca190",
   "metadata": {},
   "outputs": [],
   "source": [
    "student_age['Danny'] = 43"
   ]
  },
  {
   "cell_type": "markdown",
   "id": "a9410805-48f8-4769-8f45-dd0489656f0a",
   "metadata": {},
   "source": [
    "An alternative method uses the `update()` function for the dictionary object. The syntax looks like this:\n",
    "\n",
    "> *dictionaryName*.update()\n",
    "\n",
    "The value that goes inside the function `update()` varies, depending on how you want to use it. For example, We can create a new dictionary and update the original with the new one:"
   ]
  },
  {
   "cell_type": "code",
   "execution_count": 28,
   "id": "5af068b2-92a1-46ef-bdc2-3b33a9faeb95",
   "metadata": {},
   "outputs": [
    {
     "data": {
      "text/plain": [
       "{'Theo': 36, 'Josie': 22, 'Lili': 32, 'Danny': 43, 'Christy': 21, 'King': 21}"
      ]
     },
     "execution_count": 28,
     "metadata": {},
     "output_type": "execute_result"
    }
   ],
   "source": [
    "new_ages = {\n",
    "    'Christy': 21, \n",
    "    'King': 21\n",
    "}\n",
    "\n",
    "student_age.update(new_ages)\n",
    "student_age"
   ]
  },
  {
   "cell_type": "markdown",
   "id": "dd5fe223-47a5-4905-a792-eaaa01b4bede",
   "metadata": {},
   "source": [
    "Or, we can perform the entire operation on a single line:"
   ]
  },
  {
   "cell_type": "code",
   "execution_count": 29,
   "id": "a2c2d1f8-ea2d-40f2-868c-7031ab09f1bd",
   "metadata": {},
   "outputs": [],
   "source": [
    "student_age.update([('Christy', 21), ('King', 21)])"
   ]
  },
  {
   "cell_type": "markdown",
   "id": "63c45657-b9aa-4b86-8794-a992a6a407d1",
   "metadata": {},
   "source": [
    "Just like arrays and lists, the values contained in elements can be duplicated."
   ]
  },
  {
   "cell_type": "code",
   "execution_count": 30,
   "id": "76cc6c8c-00de-4a6b-8747-431b6cd2f4b2",
   "metadata": {},
   "outputs": [
    {
     "data": {
      "text/plain": [
       "{'233-83-9073': 'Harmony Cobel',\n",
       " '839-29-1893': 'Mark Scout',\n",
       " '118-28-8462': 'Ricken Hale',\n",
       " '544-24-7631': 'Mark Scout'}"
      ]
     },
     "execution_count": 30,
     "metadata": {},
     "output_type": "execute_result"
    }
   ],
   "source": [
    "employee = {\n",
    "    \"233-83-9073\":\"Harmony Cobel\",\n",
    "    \"839-29-1893\":\"Mark Scout\",\n",
    "    \"118-28-8462\":\"Ricken Hale\",\n",
    "    \"544-24-7631\":\"Mark Scout\"\n",
    "}\n",
    "\n",
    "employee"
   ]
  },
  {
   "cell_type": "markdown",
   "id": "fd1e9eb7-e1bc-4c77-96c8-b78c85746007",
   "metadata": {},
   "source": [
    "In this dictionary, we have four employees. We have added two employees with the same name, Mark Scout. \n",
    "\n",
    "What happens when I try to change the key for Harmony Cobel to be equal to Ricken's?"
   ]
  },
  {
   "cell_type": "code",
   "execution_count": 31,
   "id": "dcd1091a-635c-4100-b07d-b853b1240f72",
   "metadata": {},
   "outputs": [
    {
     "data": {
      "text/plain": [
       "{'118-28-8462': 'Ricken Hale',\n",
       " '839-29-1893': 'Mark Scout',\n",
       " '544-24-7631': 'Mark Scout'}"
      ]
     },
     "execution_count": 31,
     "metadata": {},
     "output_type": "execute_result"
    }
   ],
   "source": [
    "employee = {\n",
    "    \"118-28-8462\":\"Harmony Cobel\",\n",
    "    \"839-29-1893\":\"Mark Scout\",\n",
    "    \"118-28-8462\":\"Ricken Hale\",\n",
    "    \"544-24-7631\":\"Mark Scout\"\n",
    "}\n",
    "\n",
    "employee"
   ]
  },
  {
   "cell_type": "markdown",
   "id": "2ec8d75f-9859-4868-9b19-699b2c73c0ab",
   "metadata": {},
   "source": [
    "Harmony's record is not in the output. Duplicate keys are *not allowed*. If we attempt to add an entry with the exact same key as an already-existing element, Python will assign the last value. \n",
    "\n",
    "### Retrieving Elements\n",
    "\n",
    "Once we have elements stored inside the dictionary, how do we retrieve the values? The process is similar to arrays and lists, except instead of a numerical indexer we simply use the `key`. \n",
    "\n",
    "Let's return to a prior example for dictionary `student_age`. This contains the following elements:\n",
    "\n",
    "```\n",
    "{'Theo': 36, 'Josie': 22, 'Lili': 32, 'Danny': 43, 'Christy': 21, 'King': 21}\n",
    "\n",
    "```\n",
    "\n",
    "We want the age for Josie. To access this, we simply use her first name as the index value:"
   ]
  },
  {
   "cell_type": "code",
   "execution_count": 32,
   "id": "3132ea22-1fed-4cd8-bfe8-938a2dc2e38c",
   "metadata": {},
   "outputs": [
    {
     "data": {
      "text/plain": [
       "'Josie is 22-years old.'"
      ]
     },
     "execution_count": 32,
     "metadata": {},
     "output_type": "execute_result"
    }
   ],
   "source": [
    "f\"Josie is {student_age['Josie']}-years old.\""
   ]
  },
  {
   "cell_type": "markdown",
   "id": "97565dd1-54dc-46b0-bf74-98e4076c36b4",
   "metadata": {},
   "source": [
    "Thus, we can reference a single element by using the key like the indexer in an `array` or `list`. What if we wanted to try and use an index value like we did for `array` or `list`?"
   ]
  },
  {
   "cell_type": "code",
   "execution_count": 33,
   "id": "4d28471a-df3b-47dc-8525-2d25d2c28b86",
   "metadata": {},
   "outputs": [
    {
     "ename": "KeyError",
     "evalue": "1",
     "output_type": "error",
     "traceback": [
      "\u001b[1;31m---------------------------------------------------------------------------\u001b[0m",
      "\u001b[1;31mKeyError\u001b[0m                                  Traceback (most recent call last)",
      "Cell \u001b[1;32mIn[33], line 1\u001b[0m\n\u001b[1;32m----> 1\u001b[0m \u001b[38;5;28mprint\u001b[39m(\u001b[38;5;124mf\u001b[39m\u001b[38;5;124m\"\u001b[39m\u001b[38;5;132;01m{\u001b[39;00m\u001b[43mstudent_age\u001b[49m\u001b[43m[\u001b[49m\u001b[38;5;241;43m1\u001b[39;49m\u001b[43m]\u001b[49m\u001b[38;5;132;01m}\u001b[39;00m\u001b[38;5;124m\"\u001b[39m)\n",
      "\u001b[1;31mKeyError\u001b[0m: 1"
     ]
    }
   ],
   "source": [
    "print(f\"{student_age[1]}\")"
   ]
  },
  {
   "cell_type": "markdown",
   "id": "17f9fa23-d054-4c66-b12d-0a9aefe036ef",
   "metadata": {},
   "source": [
    "The error states that the key we specified, `1`, does not exist in the sequence `student_age`. "
   ]
  },
  {
   "cell_type": "markdown",
   "id": "3dfcaa7f-a3a0-46d3-a526-1bc2f842ea41",
   "metadata": {},
   "source": [
    "### Existing Key\n",
    "\n",
    "You may need to determine if a key exists in your dictionary. For example, if we attempt to determine if the student Danny exists in our dictionary, how might we do so? Python provides a few different options. For the first option, we can use the `in` operator in conjunction with an if statement."
   ]
  },
  {
   "cell_type": "code",
   "execution_count": 34,
   "id": "499dce3f-aeee-4e5c-9bd5-6c44ec6dedaf",
   "metadata": {},
   "outputs": [
    {
     "name": "stdout",
     "output_type": "stream",
     "text": [
      "Dictionary student_age contains Danny.\n"
     ]
    }
   ],
   "source": [
    "if 'Danny' in student_age:\n",
    "    print(\"Dictionary student_age contains Danny.\")\n",
    "else:\n",
    "    print(\"Dictionary student_age does not contain Danny.\")"
   ]
  },
  {
   "cell_type": "markdown",
   "id": "7521ab40-be04-490a-a22d-a3ab62332b49",
   "metadata": {},
   "source": [
    "The second option relies on the `get()` method. This method returns the value of the key if present or `None` if the key does not exist. In this next example, we want to first determine if a key exists before we add a new entry."
   ]
  },
  {
   "cell_type": "code",
   "execution_count": 35,
   "id": "391e067f-18b2-4ed8-97ff-deccb72ff186",
   "metadata": {},
   "outputs": [
    {
     "name": "stdout",
     "output_type": "stream",
     "text": [
      "Student not found. Adding new student.\n"
     ]
    }
   ],
   "source": [
    "if student_age.get('Samir') == None:\n",
    "    student_age['Samir'] = 53\n",
    "    print('Student not found. Adding new student.')\n",
    "else:\n",
    "    print('That student already exists.')"
   ]
  },
  {
   "cell_type": "markdown",
   "id": "3b67c6c4-6ad2-464b-937a-642ed82380db",
   "metadata": {},
   "source": [
    "If we run the code a second time, we receive the following output: `That employee already exists.`"
   ]
  },
  {
   "cell_type": "code",
   "execution_count": 44,
   "id": "da6bf146-4449-499a-994c-b6371557e730",
   "metadata": {},
   "outputs": [
    {
     "name": "stdout",
     "output_type": "stream",
     "text": [
      "Student not found. Adding new student.\n"
     ]
    }
   ],
   "source": [
    "if student_age.get('Samir') == None:\n",
    "    student_age['Samir'] = 53\n",
    "    print('Student not found. Adding new student.')\n",
    "else:\n",
    "    print('That student already exists.')"
   ]
  },
  {
   "cell_type": "markdown",
   "id": "e1fff109-4f13-4a5f-a63d-09212a29477f",
   "metadata": {},
   "source": [
    "As you can see, the program skipped adding the entry because the key already exists. When using `dictionaries` it is always a good practice to assess if a key already exists before adding a new key-value pair.\n",
    "\n",
    "A third option uses a round-about way to determine the existence of a key. The `keys()` method obtains a list of all keys in a dictionary. You can simply use to output all the existing keys (with or without the `print` function in Jupyter notebooks)."
   ]
  },
  {
   "cell_type": "code",
   "execution_count": 37,
   "id": "53779a38-110e-4473-9094-045311d027a4",
   "metadata": {},
   "outputs": [
    {
     "data": {
      "text/plain": [
       "dict_keys(['Theo', 'Josie', 'Lili', 'Danny', 'Christy', 'King', 'Samir'])"
      ]
     },
     "execution_count": 37,
     "metadata": {},
     "output_type": "execute_result"
    }
   ],
   "source": [
    "student_age.keys()"
   ]
  },
  {
   "cell_type": "markdown",
   "id": "0002d72a-8a1d-4fb4-a0fc-7ea7df81d08b",
   "metadata": {},
   "source": [
    "#### Removing Key-Value Pair\n",
    "\n",
    "Similar to `lists`, we can add and remove elements in a `dictionary`. You have already seen how to add a new element. To remove one, we have two options. The first option relies on using `del` while the second uses `pop()`. As an example of using `del`, if we want to remove the student we just added, Samir, we would do so like this:"
   ]
  },
  {
   "cell_type": "code",
   "execution_count": 43,
   "id": "4fd79065-9883-4c0f-b90f-19d873a81e82",
   "metadata": {},
   "outputs": [],
   "source": [
    "del student_age['Samir']"
   ]
  },
  {
   "cell_type": "markdown",
   "id": "ab2ceb5b-3d23-4441-a4fb-350e3ff52150",
   "metadata": {},
   "source": [
    "The downside to this method is we have no way of knowing whether or not the key `Samir` exists. If the key does not exist, Python provides this error:\n",
    "\n",
    "```\n",
    "KeyError                                  Traceback (most recent call last)\n",
    "  Cell In[124], line 1\n",
    "----> 1 del student_age['Samir']\n",
    "\n",
    "KeyError: 'Samir'\n",
    "```\n",
    "\n",
    "We can use the method `get()` that we just learned about to first check the existence of the key and then subsequently remove it."
   ]
  },
  {
   "cell_type": "code",
   "execution_count": 40,
   "id": "7bde6db1-0ec2-4c9a-8a19-fe059a3bb2c0",
   "metadata": {},
   "outputs": [],
   "source": [
    "if student_age.get('Samir') != None:\n",
    "    del student_age['Samir']"
   ]
  },
  {
   "cell_type": "markdown",
   "id": "6bf32b05-501a-47d0-be4b-8c7a1a095764",
   "metadata": {},
   "source": [
    "This method requires more than one line of code, but it is safer and avoids errors. If you want a one-line solution, then you should use `pop()`. You already learned about this method for removing elements from a list. You can also use it for dictionaries."
   ]
  },
  {
   "cell_type": "code",
   "execution_count": 45,
   "id": "e83e8dbe-27f3-4877-9aab-21663ef19eb6",
   "metadata": {},
   "outputs": [
    {
     "data": {
      "text/plain": [
       "53"
      ]
     },
     "execution_count": 45,
     "metadata": {},
     "output_type": "execute_result"
    }
   ],
   "source": [
    "student_age.pop('Samir', None)"
   ]
  },
  {
   "cell_type": "markdown",
   "id": "46813b7c-d228-44e2-8c58-df475863eac2",
   "metadata": {},
   "source": [
    "Why specify `None` in the method? This is because we are providing the method two possible options to return: The value belonging to the key or `None` representing nothing. So, if the key does exist, `pop()` removes it. If it does not exist, nothing is returned.\n",
    "\n",
    "### Iterating over Dictionaries\n",
    "\n",
    "Like an array or list, we can iterate over the elements contained within a dictionary. Just like the other collections, we can loop over our `dictionary` and output the contents by relying on the `for` loop.\n",
    "\n",
    "As an example, we will iterate over the dictionary `student_age`."
   ]
  },
  {
   "cell_type": "code",
   "execution_count": 46,
   "id": "89f8d269-3cc6-47fd-9a7e-4334f22e182c",
   "metadata": {},
   "outputs": [
    {
     "name": "stdout",
     "output_type": "stream",
     "text": [
      "Theo\n",
      "Josie\n",
      "Lili\n",
      "Danny\n",
      "Christy\n",
      "King\n"
     ]
    }
   ],
   "source": [
    "for s in student_age:\n",
    "    print(s)"
   ]
  },
  {
   "cell_type": "markdown",
   "id": "14cd2cde-b5b5-475b-b668-0ed4696cc248",
   "metadata": {},
   "source": [
    "We chose the letter `s` because my dictionary starts with the letter \"s.\"\n",
    "\n",
    "\n",
    "Unlike `arrays` and `lists`, when looping over a `dictionary` as seen above, the output in our loop contains just the `key`, not the `value`. For other programming languages, the output includes both the `key` and `value`. This is just syntax. If we want the values, then we simply use the key to access the value:"
   ]
  },
  {
   "cell_type": "code",
   "execution_count": 47,
   "id": "00d4ed1a-5189-45c0-9b2c-c408f4efb41f",
   "metadata": {},
   "outputs": [
    {
     "name": "stdout",
     "output_type": "stream",
     "text": [
      "36\n",
      "22\n",
      "32\n",
      "43\n",
      "21\n",
      "21\n"
     ]
    }
   ],
   "source": [
    "for s in student_age:\n",
    "    print(student_age[s])"
   ]
  },
  {
   "cell_type": "markdown",
   "id": "cf4580db-6af7-483e-950a-f6da9a27ef0b",
   "metadata": {},
   "source": [
    "What if we want to output a combination of both the `key` and the `value`? That's simple too."
   ]
  },
  {
   "cell_type": "code",
   "execution_count": 48,
   "id": "5f9a7f25-d78f-4b33-be09-f7c8ad0328ab",
   "metadata": {},
   "outputs": [
    {
     "name": "stdout",
     "output_type": "stream",
     "text": [
      "Theo is 36-years old.\n",
      "Josie is 22-years old.\n",
      "Lili is 32-years old.\n",
      "Danny is 43-years old.\n",
      "Christy is 21-years old.\n",
      "King is 21-years old.\n"
     ]
    }
   ],
   "source": [
    "for s in student_age:\n",
    "    print(f'{s} is {student_age[s]}-years old.')"
   ]
  },
  {
   "cell_type": "markdown",
   "id": "1e85ab4b-fdad-4506-9b11-883309254a78",
   "metadata": {},
   "source": [
    "## Arrays, Lists, or Dictionaries?\n",
    "\n",
    "At this point, you may be wondering why you would bother using a dictionary when a array or list could easily contain the data. For example, in the examples we have already created objects that have a unique identifier and attributes such as name. We can store our objects in a list, adding and removing objects at will. What advantages does a dictionary have compared to any of these other objects?\n",
    "\n",
    "Let's compare dictionaries to arrays and lists. First, a comparison against arrays. The advantage a dictionary has over an array is that the dictionary is dynamic. That is, we can add and remove elements just like we can for a list. Remember, an array is not dynamic. Also, the objects in an array must all be of the same type. In a dictionary, the type is elastic and not constrained."
   ]
  },
  {
   "cell_type": "code",
   "execution_count": 49,
   "id": "c8269b4d-cdf9-44c7-8511-1fb35a6e2ead",
   "metadata": {},
   "outputs": [
    {
     "name": "stdout",
     "output_type": "stream",
     "text": [
      "Key:Theo\tValue:36\n",
      "Key:Josie\tValue:22\n",
      "Key:Lili\tValue:32\n",
      "Key:Danny\tValue:43\n",
      "Key:Christy\tValue:21\n",
      "Key:King\tValue:21\n",
      "Key:56\tValue:21\n",
      "Key:876\tValue:21\n"
     ]
    }
   ],
   "source": [
    "new_dict = {56:21, 876:21}\n",
    "\n",
    "student_age.update(new_dict)\n",
    "\n",
    "for s in student_age:\n",
    "    print(f'Key:{s}\\tValue:{student_age[s]}')"
   ]
  },
  {
   "cell_type": "markdown",
   "id": "6ed74fc5-a9a3-4a8b-a6fe-be550d548d4f",
   "metadata": {},
   "source": [
    "Second, let's compare dictionaries to lists. Lists are dynamic like dictionaries and allow multiple data types. Unlike lists, for a dictionary we can define our own index. The list, on the other hand, is limited to an integer as the indexer. This does not mean relying on a numeric integer is a poor choice. But, if you want a non-contiguous, non-numeric index, dictionary is the choice.\n",
    "\n",
    "Ultimately, in programming, the idea of *parsimony* is important. Keep it as simple as possible. Adding complexity for the sake of complexity is not necessary. If you do not need a non-numeric index, then a list will do.\n",
    "\n",
    "That concludes this tutorial covering collections (i.e., sequences) in Python. Congrats on reaching the end!"
   ]
  }
 ],
 "metadata": {
  "kernelspec": {
   "display_name": "Python 3",
   "language": "python",
   "name": "python3"
  },
  "language_info": {
   "codemirror_mode": {
    "name": "ipython",
    "version": 3
   },
   "file_extension": ".py",
   "mimetype": "text/x-python",
   "name": "python",
   "nbconvert_exporter": "python",
   "pygments_lexer": "ipython3",
   "version": "3.12.2"
  }
 },
 "nbformat": 4,
 "nbformat_minor": 5
}
